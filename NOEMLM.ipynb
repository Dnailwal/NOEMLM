{
 "cells": [
  {
   "cell_type": "code",
   "execution_count": 1,
   "id": "ffece79c",
   "metadata": {},
   "outputs": [
    {
     "name": "stderr",
     "output_type": "stream",
     "text": [
      "/home/daya/anaconda3/lib/python3.9/site-packages/xgboost/compat.py:36: FutureWarning: pandas.Int64Index is deprecated and will be removed from pandas in a future version. Use pandas.Index with the appropriate dtype instead.\n",
      "  from pandas import MultiIndex, Int64Index\n"
     ]
    }
   ],
   "source": [
    "import pandas as pd\n",
    "import numpy as np\n",
    "from numpy import array\n",
    "import matplotlib.pyplot as plt\n",
    "from sklearn.model_selection import train_test_split\n",
    "import xgboost as xgb\n",
    "from sklearn.metrics import balanced_accuracy_score, roc_auc_score, make_scorer\n",
    "from sklearn.model_selection import GridSearchCV\n",
    "from sklearn.metrics import confusion_matrix\n",
    "from sklearn.metrics import plot_confusion_matrix\n",
    "from sklearn.tree import DecisionTreeRegressor\n",
    "from sklearn.ensemble import RandomForestRegressor\n",
    "\n",
    "from sklearn.neural_network import MLPRegressor\n",
    "from sklearn.datasets import make_regression\n",
    "import os\n",
    "import glob\n",
    "import seaborn as sn\n",
    "import warnings\n",
    "warnings.filterwarnings('ignore')"
   ]
  },
  {
   "cell_type": "code",
   "execution_count": null,
   "id": "c4d4650b",
   "metadata": {},
   "outputs": [],
   "source": [
    "ds= pd.read_csv('Training data file.csv')"
   ]
  },
  {
   "cell_type": "code",
   "execution_count": null,
   "id": "3b1fac27",
   "metadata": {},
   "outputs": [],
   "source": [
    "df=ds[['Bz','S_spot','DST','AE','SZA','latitude','longitude','Kp','F10.7','ktemp','NOIRF']]"
   ]
  },
  {
   "cell_type": "code",
   "execution_count": null,
   "id": "2c35ef68",
   "metadata": {},
   "outputs": [],
   "source": [
    "x= dff[['Bz','S_spot','DST','AE','SZA','latitude','longitude','Kp','F10.7','ktemp']]\n",
    "y= dff[['NOIRF']]\n",
    "\n",
    "x_train,x_test,y_train,y_test= train_test_split(x,y,test_size=0.1,random_state=20)"
   ]
  },
  {
   "cell_type": "code",
   "execution_count": null,
   "id": "3833f9c1",
   "metadata": {},
   "outputs": [],
   "source": [
    "# Use any one algorithm\n",
    "\n",
    "#model= DecisionTreeRegressor(random_state = 0)\n",
    "#model =xgb.XGBRegressor(learning_rate = 0.3,max_depth = 15, n_estimators = 300)\n",
    "#model= RandomForestRegressor(n_estimators=150, random_state=0)\n",
    "#model = MLPRegressor(random_state=35, max_iter=300)\n",
    "\n",
    "model.fit(x_train,y_train)"
   ]
  },
  {
   "cell_type": "code",
   "execution_count": null,
   "id": "5d489d3b",
   "metadata": {},
   "outputs": [],
   "source": [
    "test file= pd.read_csv('test file.csv')\n",
    "inputs= evl[['Bz','S_spot','DST','AE','SZA','latitude','longitude','Kp','F10.7','ktemp']]\n",
    "predicted=model.predict(inputs)"
   ]
  },
  {
   "cell_type": "code",
   "execution_count": null,
   "id": "e632642c",
   "metadata": {},
   "outputs": [],
   "source": []
  }
 ],
 "metadata": {
  "kernelspec": {
   "display_name": "Python 3 (ipykernel)",
   "language": "python",
   "name": "python3"
  },
  "language_info": {
   "codemirror_mode": {
    "name": "ipython",
    "version": 3
   },
   "file_extension": ".py",
   "mimetype": "text/x-python",
   "name": "python",
   "nbconvert_exporter": "python",
   "pygments_lexer": "ipython3",
   "version": "3.9.13"
  }
 },
 "nbformat": 4,
 "nbformat_minor": 5
}
