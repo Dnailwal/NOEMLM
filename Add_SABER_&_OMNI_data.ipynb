{
 "cells": [
  {
   "cell_type": "code",
   "execution_count": 1,
   "id": "1f626d22",
   "metadata": {},
   "outputs": [],
   "source": [
    "import pandas as pd\n",
    "import numpy as np\n",
    "from pandas import DataFrame"
   ]
  },
  {
   "cell_type": "code",
   "execution_count": null,
   "id": "9f1327d1",
   "metadata": {
    "scrolled": true
   },
   "outputs": [],
   "source": [
    "for i in range(1,367):\n",
    "    df=pd.read_csv('file.format'.format(i))\n",
    "    #df.rename(columns={'longitude_mean':'longitude','latitude_mean':'latitude','HR':'UT','scSolarZen':'SZA','solKP':'Kp','F10.7solDaily_mean':'F10.7'}, inplace=True)\n",
    "    df['HR']=df['HR1'].astype(int)\n",
    "    555\n",
    "    dtno1=df['NOIRF115to155']\n",
    "    dtno2=df['NOIRF155to250']\n",
    "    no=(dtno1+dtno2)\n",
    "    noo=pd.DataFrame(no)\n",
    "    noo.rename(columns={0:'NOIRF'}, inplace= True)\n",
    "    dff=df.join(noo)\n",
    "    dff.reset_index(inplace=True)\n",
    "    #********************************************************************************\n",
    "    ow=pd.read_csv('file.format'.format(i))\n",
    "\n",
    "    ow.rename(columns={'1':'Bz','2':'S_spot','3':'DST','4':'AE'}, inplace=True)\n",
    "    data_000=ow.merge(dff, on='HR', how='left')\n",
    "    data_00=data_000.dropna()\n",
    "    dfnl=data_00[['require parameters']]\n",
    "    \n",
    "    dfnl.to_csv('file.format'.format(i))"
   ]
  },
  {
   "cell_type": "code",
   "execution_count": null,
   "id": "bef7ec47",
   "metadata": {},
   "outputs": [],
   "source": []
  }
 ],
 "metadata": {
  "kernelspec": {
   "display_name": "Python 3 (ipykernel)",
   "language": "python",
   "name": "python3"
  },
  "language_info": {
   "codemirror_mode": {
    "name": "ipython",
    "version": 3
   },
   "file_extension": ".py",
   "mimetype": "text/x-python",
   "name": "python",
   "nbconvert_exporter": "python",
   "pygments_lexer": "ipython3",
   "version": "3.9.13"
  }
 },
 "nbformat": 4,
 "nbformat_minor": 5
}
