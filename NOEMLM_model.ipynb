{
 "cells": [
  {
   "cell_type": "code",
   "execution_count": null,
   "id": "fee93248",
   "metadata": {},
   "outputs": [],
   "source": [
    "import joblib\n",
    "NOEMLM=joblib.load('NOEMLM_source_code.pkl')\n",
    "# provide the values of ('Bz','S_spot','DST','AE','SZA','latitude','longitude','Kp','F10.7','ktemp')\n",
    "\n",
    "#example:\n",
    "#out_put=model.predict([['Bz','S_spot','DST','AE','SZA','latitude','longitude','Kp','F10.7','ktemp']])\n",
    "\n",
    "out_put=NOEMLM.predict([[1.1,104,-14,42,28.715551,-7.647679,221.262802,2.0,133.600006,255.790039]])\n",
    "print('NOIRF=',out_put)\n",
    "out_put=NOEMLM.predict([[-3.3,104,-7,197,26.900909,-54.085262,238.492432,0.0,140.000000,370.458282]])\n",
    "print('NOIRF=',out_put)"
   ]
  },
  {
   "cell_type": "code",
   "execution_count": null,
   "id": "fadc5448",
   "metadata": {},
   "outputs": [],
   "source": []
  },
  {
   "cell_type": "code",
   "execution_count": null,
   "id": "91a96208",
   "metadata": {},
   "outputs": [],
   "source": []
  }
 ],
 "metadata": {
  "kernelspec": {
   "display_name": "Python 3 (ipykernel)",
   "language": "python",
   "name": "python3"
  },
  "language_info": {
   "codemirror_mode": {
    "name": "ipython",
    "version": 3
   },
   "file_extension": ".py",
   "mimetype": "text/x-python",
   "name": "python",
   "nbconvert_exporter": "python",
   "pygments_lexer": "ipython3",
   "version": "3.9.13"
  }
 },
 "nbformat": 4,
 "nbformat_minor": 5
}
